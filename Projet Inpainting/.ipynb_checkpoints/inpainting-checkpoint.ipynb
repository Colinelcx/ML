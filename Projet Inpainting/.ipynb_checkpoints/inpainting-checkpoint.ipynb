{
 "cells": [
  {
   "cell_type": "markdown",
   "metadata": {},
   "source": [
    "LACOUX Coline <br/>\n",
    "EL MADAFRITE Saad \n",
    "\n",
    "# Projet ML 2020 : Inpainting"
   ]
  },
  {
   "cell_type": "code",
   "execution_count": 138,
   "metadata": {},
   "outputs": [],
   "source": [
    "import numpy as np\n",
    "import matplotlib.pyplot as plt\n",
    "from sklearn import linear_model"
   ]
  },
  {
   "cell_type": "markdown",
   "metadata": {},
   "source": [
    "# Partie 1 : Préambule : régression linéaire, régression ridge et LASSO"
   ]
  },
  {
   "cell_type": "code",
   "execution_count": 139,
   "metadata": {},
   "outputs": [],
   "source": [
    "def load_usps(filename):\n",
    "    with open(filename,\"r\") as f:\n",
    "        f.readline()\n",
    "        data =[ [float(x) for x in l.split()] for l in f if len(l.split())>2] \n",
    "        tmp = np.array(data)\n",
    "    return tmp[: ,1:] ,tmp[: ,0]. astype(int)\n"
   ]
  },
  {
   "cell_type": "code",
   "execution_count": 140,
   "metadata": {},
   "outputs": [],
   "source": [
    "datax_train , datay_train = load_usps (\"data/USPS_train.txt\")\n",
    "datax_test , datay_test = load_usps (\"data/USPS_test.txt\")\n",
    "\n",
    "datay_train = np.where(datay_train > 1 , 1 , -1)\n",
    "datay_test = np.where(datay_test > 1 , 1 , -1)"
   ]
  },
  {
   "cell_type": "code",
   "execution_count": 141,
   "metadata": {},
   "outputs": [
    {
     "data": {
      "text/plain": [
       "LinearRegression(copy_X=True, fit_intercept=True, n_jobs=None, normalize=False)"
      ]
     },
     "execution_count": 141,
     "metadata": {},
     "output_type": "execute_result"
    }
   ],
   "source": [
    "linear_reg_model = linear_model.LinearRegression()\n",
    "linear_reg_model.fit(datax_train, datay_train)"
   ]
  },
  {
   "cell_type": "code",
   "execution_count": 142,
   "metadata": {},
   "outputs": [
    {
     "data": {
      "text/plain": [
       "Ridge(alpha=10, copy_X=True, fit_intercept=True, max_iter=None, normalize=False,\n",
       "      random_state=None, solver='auto', tol=0.001)"
      ]
     },
     "execution_count": 142,
     "metadata": {},
     "output_type": "execute_result"
    }
   ],
   "source": [
    "ridge_model = linear_model.Ridge(alpha=10)\n",
    "ridge_model.fit(datax_train, datay_train)"
   ]
  },
  {
   "cell_type": "code",
   "execution_count": 143,
   "metadata": {},
   "outputs": [
    {
     "data": {
      "text/plain": [
       "Lasso(alpha=0.1, copy_X=True, fit_intercept=True, max_iter=1000,\n",
       "      normalize=False, positive=False, precompute=False, random_state=None,\n",
       "      selection='cyclic', tol=0.0001, warm_start=False)"
      ]
     },
     "execution_count": 143,
     "metadata": {},
     "output_type": "execute_result"
    }
   ],
   "source": [
    "lasso_model = linear_model.Lasso(alpha=0.1)\n",
    "lasso_model.fit(datax_train, datay_train)"
   ]
  },
  {
   "cell_type": "code",
   "execution_count": 144,
   "metadata": {},
   "outputs": [
    {
     "name": "stdout",
     "output_type": "stream",
     "text": [
      "number of non-zeros : 256\n"
     ]
    },
    {
     "data": {
      "image/png": "[encoded data removed]",
      "text/plain": [
       "<Figure size 432x288 with 1 Axes>"
      ]
     },
     "metadata": {
      "needs_background": "light"
     },
     "output_type": "display_data"
    }
   ],
   "source": [
    "plt.imshow((linear_reg_model.coef_.reshape(16,16)), cmap=plt.cm.viridis )\n",
    "print(\"number of non-zeros :\", np.count_nonzero(linear_reg_model.coef_) )"
   ]
  },
  {
   "cell_type": "code",
   "execution_count": 145,
   "metadata": {},
   "outputs": [
    {
     "name": "stdout",
     "output_type": "stream",
     "text": [
      "number of non-zeros : 256\n"
     ]
    },
    {
     "data": {
      "image/png": "[encoded data removed]",
      "text/plain": [
       "<Figure size 432x288 with 1 Axes>"
      ]
     },
     "metadata": {
      "needs_background": "light"
     },
     "output_type": "display_data"
    }
   ],
   "source": [
    "plt.imshow((ridge_model.coef_.reshape(16,16)), cmap=plt.cm.viridis )\n",
    "print(\"number of non-zeros :\", np.count_nonzero(ridge_model.coef_) )"
   ]
  },
  {
   "cell_type": "code",
   "execution_count": 146,
   "metadata": {},
   "outputs": [
    {
     "name": "stdout",
     "output_type": "stream",
     "text": [
      "number of non-zeros : 19\n"
     ]
    },
    {
     "data": {
      "image/png": "[encoded data removed]",
      "text/plain": [
       "<Figure size 432x288 with 1 Axes>"
      ]
     },
     "metadata": {
      "needs_background": "light"
     },
     "output_type": "display_data"
    }
   ],
   "source": [
    "plt.imshow((lasso_model.coef_.reshape(16,16)), cmap=plt.cm.viridis )\n",
    "print(\"number of non-zeros :\", np.count_nonzero(lasso_model.coef_) )"
   ]
  },
  {
   "cell_type": "code",
   "execution_count": 150,
   "metadata": {},
   "outputs": [
    {
     "name": "stdout",
     "output_type": "stream",
     "text": [
      "Linear regression accuracy on train :  0.9668083939103004\n",
      "Linear regression accuracy on test  :  0.9446935724962631\n"
     ]
    }
   ],
   "source": [
    "pred_train = np.where(linear_reg_model.predict(datax_train) >= 0 , 1 , -1) \n",
    "pred_test = np.where(linear_reg_model.predict(datax_test) >= 0 , 1 , -1) \n",
    "\n",
    "print(\"Linear regression accuracy on train : \",(pred_train == datay_train).mean())\n",
    "print(\"Linear regression accuracy on test  : \",(pred_test  == datay_test).mean())"
   ]
  },
  {
   "cell_type": "code",
   "execution_count": 151,
   "metadata": {},
   "outputs": [
    {
     "name": "stdout",
     "output_type": "stream",
     "text": [
      "Ridge regression accuracy on train :  0.967219860101495\n",
      "Ridge regression accuracy on test  :  0.9441953163926258\n"
     ]
    }
   ],
   "source": [
    "pred_train = np.where(ridge_model.predict(datax_train) >= 0 , 1 , -1) \n",
    "pred_test = np.where(ridge_model.predict(datax_test) >= 0 , 1 , -1) \n",
    "\n",
    "print(\"Ridge regression accuracy on train : \",(pred_train == datay_train).mean())\n",
    "print(\"Ridge regression accuracy on test  : \",(pred_test  == datay_test).mean())"
   ]
  },
  {
   "cell_type": "code",
   "execution_count": 152,
   "metadata": {},
   "outputs": [
    {
     "name": "stdout",
     "output_type": "stream",
     "text": [
      "Lasso algorithm accuracy on train :  0.9041283774516528\n",
      "Lasso algorithm accuracy on test  :  0.898355754857997\n"
     ]
    }
   ],
   "source": [
    "pred_train = np.where(lasso_model.predict(datax_train) >= 0 , 1 , -1) \n",
    "pred_test = np.where(lasso_model.predict(datax_test) >= 0 , 1 , -1) \n",
    "\n",
    "print(\"Lasso algorithm accuracy on train : \",(pred_train == datay_train).mean())\n",
    "print(\"Lasso algorithm accuracy on test  : \",(pred_test  == datay_test).mean())"
   ]
  },
  {
   "cell_type": "markdown",
   "metadata": {},
   "source": [
    "# Partie 2 : LASSO et Inpainting"
   ]
  },
  {
   "cell_type": "code",
   "execution_count": null,
   "metadata": {},
   "outputs": [],
   "source": []
  },
  {
   "cell_type": "code",
   "execution_count": null,
   "metadata": {},
   "outputs": [],
   "source": []
  }
 ],
 "metadata": {
  "kernelspec": {
   "display_name": "Python 3",
   "language": "python",
   "name": "python3"
  },
  "language_info": {
   "codemirror_mode": {
    "name": "ipython",
    "version": 3
   },
   "file_extension": ".py",
   "mimetype": "text/x-python",
   "name": "python",
   "nbconvert_exporter": "python",
   "pygments_lexer": "ipython3",
   "version": "3.7.4"
  }
 },
 "nbformat": 4,
 "nbformat_minor": 4
}
